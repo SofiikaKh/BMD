{
 "cells": [
  {
   "cell_type": "markdown",
   "metadata": {},
   "source": [
    "Лабораторна робота №7 Студентки групи БС-83 Харченко Софії"
   ]
  },
  {
   "cell_type": "markdown",
   "metadata": {},
   "source": [
    "1. Обрати реальні дані з kaggle або сгенерувати випадкові дані. Дані мають відповідати вимогам викладеним вище. "
   ]
  },
  {
   "cell_type": "code",
   "execution_count": 1,
   "metadata": {},
   "outputs": [],
   "source": [
    "import numpy as np\n",
    "import pandas as pd\n",
    "import scipy.stats as ss\n",
    "import seaborn as sns\n",
    "import math\n",
    "import matplotlib.pyplot as plt\n",
    "from numpy.random import randint"
   ]
  },
  {
   "cell_type": "code",
   "execution_count": 6,
   "metadata": {},
   "outputs": [
    {
     "data": {
      "text/html": [
       "<div>\n",
       "<style scoped>\n",
       "    .dataframe tbody tr th:only-of-type {\n",
       "        vertical-align: middle;\n",
       "    }\n",
       "\n",
       "    .dataframe tbody tr th {\n",
       "        vertical-align: top;\n",
       "    }\n",
       "\n",
       "    .dataframe thead th {\n",
       "        text-align: right;\n",
       "    }\n",
       "</style>\n",
       "<table border=\"1\" class=\"dataframe\">\n",
       "  <thead>\n",
       "    <tr style=\"text-align: right;\">\n",
       "      <th>Сердній бал за семестр</th>\n",
       "      <th>Група-1</th>\n",
       "      <th>Група-2</th>\n",
       "    </tr>\n",
       "    <tr>\n",
       "      <th>Номер студента</th>\n",
       "      <th></th>\n",
       "      <th></th>\n",
       "    </tr>\n",
       "  </thead>\n",
       "  <tbody>\n",
       "    <tr>\n",
       "      <td>1</td>\n",
       "      <td>85</td>\n",
       "      <td>65</td>\n",
       "    </tr>\n",
       "    <tr>\n",
       "      <td>2</td>\n",
       "      <td>78</td>\n",
       "      <td>77</td>\n",
       "    </tr>\n",
       "    <tr>\n",
       "      <td>3</td>\n",
       "      <td>62</td>\n",
       "      <td>61</td>\n",
       "    </tr>\n",
       "    <tr>\n",
       "      <td>4</td>\n",
       "      <td>60</td>\n",
       "      <td>97</td>\n",
       "    </tr>\n",
       "    <tr>\n",
       "      <td>5</td>\n",
       "      <td>95</td>\n",
       "      <td>94</td>\n",
       "    </tr>\n",
       "    <tr>\n",
       "      <td>6</td>\n",
       "      <td>84</td>\n",
       "      <td>86</td>\n",
       "    </tr>\n",
       "    <tr>\n",
       "      <td>7</td>\n",
       "      <td>96</td>\n",
       "      <td>68</td>\n",
       "    </tr>\n",
       "    <tr>\n",
       "      <td>8</td>\n",
       "      <td>74</td>\n",
       "      <td>71</td>\n",
       "    </tr>\n",
       "    <tr>\n",
       "      <td>9</td>\n",
       "      <td>98</td>\n",
       "      <td>85</td>\n",
       "    </tr>\n",
       "    <tr>\n",
       "      <td>10</td>\n",
       "      <td>66</td>\n",
       "      <td>74</td>\n",
       "    </tr>\n",
       "  </tbody>\n",
       "</table>\n",
       "</div>"
      ],
      "text/plain": [
       "Сердній бал за семестр  Група-1  Група-2\n",
       "Номер студента                          \n",
       "1                            85       65\n",
       "2                            78       77\n",
       "3                            62       61\n",
       "4                            60       97\n",
       "5                            95       94\n",
       "6                            84       86\n",
       "7                            96       68\n",
       "8                            74       71\n",
       "9                            98       85\n",
       "10                           66       74"
      ]
     },
     "execution_count": 6,
     "metadata": {},
     "output_type": "execute_result"
    }
   ],
   "source": [
    "table1 = [85,78,62,60,95,84,96,74,98,66]\n",
    "table2 = [65,77,61,97,94,86,68,71,85,74]\n",
    "table = pd.DataFrame({\n",
    "    'Група-1': table1,\n",
    "    'Група-2': table2\n",
    "}, index=np.arange(1, len(table1)+1))\n",
    "table.columns.name = 'Сердній бал за семестр'\n",
    "table.index.name = 'Номер студента'\n",
    "table"
   ]
  },
  {
   "cell_type": "markdown",
   "metadata": {},
   "source": [
    "2. Побудувати графік, що відображає розкид даних в групах. Приклад:\n",
    "![alt text](https://s3.amazonaws.com/libapps/accounts/2515/images/spss_paired-t_example_boxplot.PNG)"
   ]
  },
  {
   "cell_type": "code",
   "execution_count": 8,
   "metadata": {},
   "outputs": [
    {
     "data": {
      "text/plain": [
       "[Text(0, 0.5, 'Groups'), Text(0.5, 0, 'Marks')]"
      ]
     },
     "execution_count": 8,
     "metadata": {},
     "output_type": "execute_result"
    },
    {
     "data": {
      "image/png": "[encoded data removed]",
      "text/plain": [
       "<Figure size 432x288 with 1 Axes>"
      ]
     },
     "metadata": {
      "needs_background": "light"
     },
     "output_type": "display_data"
    }
   ],
   "source": [
    "sns.boxplot(data=table, orient='h',palette='Greens').set(xlabel='Marks', ylabel='Groups')\n"
   ]
  },
  {
   "cell_type": "markdown",
   "metadata": {},
   "source": [
    "Написати функцію для оцінки вімінностей дисперсій між групами за критерієм Лівеня. Функція має повертати значення тесту та результат оцінки рівності дисперсій (significant або not significant)"
   ]
  },
  {
   "cell_type": "code",
   "execution_count": 16,
   "metadata": {},
   "outputs": [],
   "source": [
    "def sd(massiv,n):\n",
    "    s=0\n",
    "    mean=(sum(massiv))/n\n",
    "    for i in range (n):\n",
    "        s+=((massiv[i]-mean))**2\n",
    "    return s/(n-1)\n",
    "def livena(x,y):\n",
    "    n=len(x)\n",
    "    m=len(y)\n",
    "    s1=sd(x,n)\n",
    "    s2=sd(y,m)\n",
    "    if s1>s2:\n",
    "        f=s1/s2\n",
    "    else:\n",
    "        f=s2/s1\n",
    "    print('Отримане значення критерію Лівеня : F = ' + str(f))\n",
    "    df1=n-1\n",
    "    df2=m-1\n",
    "    print('Значення ступенів свободи: df1 = ' + str(df1) + \"; df2 = \" + str(df2))\n",
    "    table = pd.read_excel(\"Liven.xlsx\").iloc[df1,df2]\n",
    "    print(\"Критичне значення критерію Лівеня = \" + str(table))\n",
    "    if f<table:\n",
    "        result = \"Оскільки значення критерію Лівеня менше, ніж його критичне значення, то результат оцінки значимості зв'зку - not significant\"\n",
    "    else:\n",
    "        result = \"Оскільки значення критерію Лівеня більше, ніж його критичне значення, то результат оцінки значимості зв'зку -  significant\"\n",
    "    return result"
   ]
  },
  {
   "cell_type": "code",
   "execution_count": 17,
   "metadata": {},
   "outputs": [
    {
     "name": "stdout",
     "output_type": "stream",
     "text": [
      "Отримане значення критерію Лівеня : F = 1.3339243498817963\n",
      "Значення ступенів свободи: df1 = 9; df2 = 9\n",
      "Критичне значення критерію Лівеня = 3.18\n"
     ]
    },
    {
     "data": {
      "text/plain": [
       "\"Оскільки значення критерію Лівеня менше, ніж його критичне значення, то результат оцінки значимості зв'зку - not significant\""
      ]
     },
     "execution_count": 17,
     "metadata": {},
     "output_type": "execute_result"
    }
   ],
   "source": [
    "livena(table1,table2)"
   ]
  },
  {
   "cell_type": "markdown",
   "metadata": {},
   "source": [
    "Функція для визначення відмінності між групами за критерієм Стьюдента в залежності від рівності/відмінності дисперсій. Функція має повертати значення критерію Стьюдента,значення ступеня свободи та результат оцінки значимості зв'зку (significant або not significant)."
   ]
  },
  {
   "cell_type": "code",
   "execution_count": 22,
   "metadata": {},
   "outputs": [],
   "source": [
    "def student(x,y):\n",
    "    flag=\"significant\"\n",
    "    if flag==\"significant\":\n",
    "        n=len(x)\n",
    "        m=len(y)\n",
    "        s1=sd(x,n)\n",
    "        s2=sd(y,m)\n",
    "        m1=sum(x)/n\n",
    "        m2=sum(y)/n\n",
    "        df=n+m-2\n",
    "        t=(abs(m1-m2))/(math.sqrt((s1/n)+(s2/m)))\n",
    "    elif flag==\"not significant\":\n",
    "        n=len(x)\n",
    "        m=len(y)\n",
    "        s1=sd(x,n)\n",
    "        s2=sd(y,m)\n",
    "        m1=sum(x)/n\n",
    "        m2=sum(y)/n\n",
    "        df1=n-1\n",
    "        df2=m-1\n",
    "        df=n+m-2\n",
    "        k=(1/n)+(1/m)\n",
    "        t=(abs(m1-m2))/(math.sqrt(((df1*s1+df2*s2)/df)*k))\n",
    "    else:\n",
    "        return \"You input the wrong flag\"\n",
    "    print('Отримане значення критерію Стьюдента: t = ' + str(t))\n",
    "    print('Значення ступеня свободи: df = ' + str(df))\n",
    "    table = pd.read_excel(\"Stud.xlsx\").iloc[df-1,1]\n",
    "    print(\"Критичне значення критерію Стьюдента = \" + str(table))\n",
    "    if t<table:\n",
    "        result = \"Оскільки значення критерію Стьюдента менше, ніж його критичне значення, то результат оцінки значимості зв'зку - significant\"\n",
    "    else:\n",
    "        result = \"Оскільки значення критерію Стьюдента більше, ніж його критичне значення, то результат оцінки значимості зв'зку -  not significant\"\n",
    "    return result"
   ]
  },
  {
   "cell_type": "code",
   "execution_count": 23,
   "metadata": {},
   "outputs": [
    {
     "name": "stdout",
     "output_type": "stream",
     "text": [
      "Отримане значення критерію Стьюдента: t = 0.3375691032488308\n",
      "Значення ступеня свободи: df = 18\n",
      "Критичне значення критерію Стьюдента = 2.101\n"
     ]
    },
    {
     "data": {
      "text/plain": [
       "\"Оскільки значення критерію Стьюдента менше, ніж його критичне значення, то результат оцінки значимості зв'зку - significant\""
      ]
     },
     "execution_count": 23,
     "metadata": {},
     "output_type": "execute_result"
    }
   ],
   "source": [
    "student(table1,table2)"
   ]
  },
  {
   "cell_type": "markdown",
   "metadata": {},
   "source": [
    "Висновок:\n",
    "\n",
    "1) В результаті перевірки даних на рівність дисперсії за тестом Лівеня було, отримано результат F < F_tabl. Отже потрібно прийняти нульову гіпотезу, тобто зробити висновок про статичну рівність дисперсій.\n",
    "\n",
    "2) В результаті перевірки відмінності між двома групами за допомогою критерію Стюдента для незалежних вибірок, було отримано результат t > t_tabl. Отже, відхиляємо нульову гіпотезу (тобто приймаємо альтернативну), та робимо висновок про статичну відмінність середніх."
   ]
  },
  {
   "cell_type": "code",
   "execution_count": null,
   "metadata": {},
   "outputs": [],
   "source": []
  }
 ],
 "metadata": {
  "kernelspec": {
   "display_name": "Python 3",
   "language": "python",
   "name": "python3"
  },
  "language_info": {
   "codemirror_mode": {
    "name": "ipython",
    "version": 3
   },
   "file_extension": ".py",
   "mimetype": "text/x-python",
   "name": "python",
   "nbconvert_exporter": "python",
   "pygments_lexer": "ipython3",
   "version": "3.7.4"
  }
 },
 "nbformat": 4,
 "nbformat_minor": 2
}
