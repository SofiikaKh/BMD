{
 "cells": [
  {
   "cell_type": "markdown",
   "metadata": {},
   "source": [
    "Лабораторна робота №6 Студентки групи БС-83 Харченко Софії"
   ]
  },
  {
   "cell_type": "code",
   "execution_count": 2,
   "metadata": {},
   "outputs": [],
   "source": [
    "from numpy.random import randint\n",
    "import matplotlib.pyplot as plt\n",
    "import scipy.stats as ss\n",
    "import seaborn as sns\n",
    "import pandas as pd\n",
    "import numpy as np\n",
    "import math"
   ]
  },
  {
   "cell_type": "code",
   "execution_count": 7,
   "metadata": {},
   "outputs": [
    {
     "data": {
      "text/html": [
       "<div>\n",
       "<style scoped>\n",
       "    .dataframe tbody tr th:only-of-type {\n",
       "        vertical-align: middle;\n",
       "    }\n",
       "\n",
       "    .dataframe tbody tr th {\n",
       "        vertical-align: top;\n",
       "    }\n",
       "\n",
       "    .dataframe thead th {\n",
       "        text-align: right;\n",
       "    }\n",
       "</style>\n",
       "<table border=\"1\" class=\"dataframe\">\n",
       "  <thead>\n",
       "    <tr style=\"text-align: right;\">\n",
       "      <th>Пульс(ударів за хвилину)</th>\n",
       "      <th>Стан спокою</th>\n",
       "      <th>Після фізичної нагрузки</th>\n",
       "    </tr>\n",
       "    <tr>\n",
       "      <th>Пацієнт</th>\n",
       "      <th></th>\n",
       "      <th></th>\n",
       "    </tr>\n",
       "  </thead>\n",
       "  <tbody>\n",
       "    <tr>\n",
       "      <td>1</td>\n",
       "      <td>59</td>\n",
       "      <td>65</td>\n",
       "    </tr>\n",
       "    <tr>\n",
       "      <td>2</td>\n",
       "      <td>64</td>\n",
       "      <td>68</td>\n",
       "    </tr>\n",
       "    <tr>\n",
       "      <td>3</td>\n",
       "      <td>60</td>\n",
       "      <td>63</td>\n",
       "    </tr>\n",
       "    <tr>\n",
       "      <td>4</td>\n",
       "      <td>65</td>\n",
       "      <td>74</td>\n",
       "    </tr>\n",
       "    <tr>\n",
       "      <td>5</td>\n",
       "      <td>70</td>\n",
       "      <td>80</td>\n",
       "    </tr>\n",
       "    <tr>\n",
       "      <td>6</td>\n",
       "      <td>72</td>\n",
       "      <td>79</td>\n",
       "    </tr>\n",
       "    <tr>\n",
       "      <td>7</td>\n",
       "      <td>68</td>\n",
       "      <td>74</td>\n",
       "    </tr>\n",
       "    <tr>\n",
       "      <td>8</td>\n",
       "      <td>71</td>\n",
       "      <td>85</td>\n",
       "    </tr>\n",
       "    <tr>\n",
       "      <td>9</td>\n",
       "      <td>66</td>\n",
       "      <td>91</td>\n",
       "    </tr>\n",
       "    <tr>\n",
       "      <td>10</td>\n",
       "      <td>75</td>\n",
       "      <td>90</td>\n",
       "    </tr>\n",
       "  </tbody>\n",
       "</table>\n",
       "</div>"
      ],
      "text/plain": [
       "Пульс(ударів за хвилину)  Стан спокою  Після фізичної нагрузки\n",
       "Пацієнт                                                       \n",
       "1                                  59                       65\n",
       "2                                  64                       68\n",
       "3                                  60                       63\n",
       "4                                  65                       74\n",
       "5                                  70                       80\n",
       "6                                  72                       79\n",
       "7                                  68                       74\n",
       "8                                  71                       85\n",
       "9                                  66                       91\n",
       "10                                 75                       90"
      ]
     },
     "execution_count": 7,
     "metadata": {},
     "output_type": "execute_result"
    }
   ],
   "source": [
    "table1 = [59,64,60,65,70,72,68,71,66,75]\n",
    "table2=[]\n",
    "table2 = [65,68,63,74,80,79,74,85,91,90]\n",
    "table = pd.DataFrame({\n",
    "    'Стан спокою': table1,\n",
    "    'Після фізичної нагрузки': table2\n",
    "}, index=np.arange(1, len(table1)+1))\n",
    "df.columns.name = 'Пульс(ударів за хвилину)'\n",
    "df.index.name = 'Пацієнт'\n",
    "df"
   ]
  },
  {
   "cell_type": "markdown",
   "metadata": {},
   "source": [
    "2.Побудувати графік, що відображає розкид даних в групах. Приклад:\n",
    "![alt text](https://s3.amazonaws.com/libapps/accounts/2515/images/spss_paired-t_example_boxplot.PNG)\n"
   ]
  },
  {
   "cell_type": "code",
   "execution_count": 10,
   "metadata": {},
   "outputs": [
    {
     "data": {
      "text/plain": [
       "[Text(0.5, 0, 'Пульс')]"
      ]
     },
     "execution_count": 10,
     "metadata": {},
     "output_type": "execute_result"
    },
    {
     "data": {
      "image/png": "[encoded data removed]",
      "text/plain": [
       "<Figure size 432x288 with 1 Axes>"
      ]
     },
     "metadata": {
      "needs_background": "light"
     },
     "output_type": "display_data"
    }
   ],
   "source": [
    "sns.boxplot(data=table, orient='h',palette='PuRd').set(xlabel='Пульс')"
   ]
  },
  {
   "cell_type": "markdown",
   "metadata": {},
   "source": [
    "3. Написати функції:\n",
    "для оцінки зв'язку між групами за коефіцієнтом кореляції Пірсона. Функція має повертати значення коефіцієнту кореляції, значення ступеня свободи та результат оцінки значимості зв'зку (significant або not significant)."
   ]
  },
  {
   "cell_type": "code",
   "execution_count": 15,
   "metadata": {},
   "outputs": [],
   "source": [
    "def Pirson(col_b, col_a):\n",
    "    n=len(col_b) #n - кількість\n",
    "    \n",
    "    sum_product = 0\n",
    "    for i in range(len(col_b)):\n",
    "        sum_product += col_b[i] * col_a[i] \n",
    "    \n",
    "    sum_b=sum(col_b)\n",
    "    sum_a=sum(col_a)\n",
    "    \n",
    "    sum_sum_b = sum_b**2\n",
    "    sum_sum_a = sum_a**2\n",
    "    \n",
    "    sum_sq_b = 0\n",
    "    sum_sq_a = 0\n",
    "    for i in range(len(col_b)):\n",
    "        sum_sq_b += col_b[i] **2\n",
    "        sum_sq_a += col_a[i] **2\n",
    "        \n",
    "    r=((n*sum_product) - (sum_b*sum_a))/math.sqrt(((n*sum_sq_b) - sum_sum_b) * ((n*sum_sq_a) - sum_sum_a))\n",
    "    print(\"Коефіцієнт Пірсона: r = \", r)\n",
    "    \n",
    "    #Розраховуємо число ступенів свободи\n",
    "    df = n-2\n",
    "    print(\"Число ступенів свободи: df = \", df)\n",
    "    \n",
    "    import xlrd, xlwt\n",
    "    rb = xlrd.open_workbook('PairedCriterion.xlsx')\n",
    "    #Вибираємо активний лист (індексація з 0)\n",
    "    sheet = rb.sheet_by_index(0)\n",
    "    r_tabl = sheet.row_values(df)[1] \n",
    "    print(\"Критичне значення: r_tabl = \",r_tabl)\n",
    "    \n",
    "    if(r_tabl < r):\n",
    "        result = \"significant\" #існує статистично значима залежність між групами \n",
    "    else:\n",
    "        result = \"not significant\" #не існує статистично значима залежність між групами\n",
    "    print(\"Результат оцінки значимості зв'язку:\", result)"
   ]
  },
  {
   "cell_type": "code",
   "execution_count": 16,
   "metadata": {},
   "outputs": [
    {
     "name": "stdout",
     "output_type": "stream",
     "text": [
      "Коефіцієнт Пірсона: r =  0.7905364087221353\n",
      "Число ступенів свободи: df =  8\n",
      "Критичне значення: r_tabl =  2.306\n",
      "Результат оцінки значимості зв'язку: not significant\n"
     ]
    }
   ],
   "source": [
    "Pirson(table1, table2)"
   ]
  },
  {
   "cell_type": "markdown",
   "metadata": {},
   "source": [
    "Функція для визначення відмінності між групами за критерієм Стьюдента. Функція має повертати значення критерію Стьюдента,значення ступеня свободи та результат оцінки значимості зв'зку (significant або not significant). "
   ]
  },
  {
   "cell_type": "code",
   "execution_count": 17,
   "metadata": {},
   "outputs": [],
   "source": [
    "def Student(column1, column2):\n",
    "    d = []\n",
    "    n = len(column1)\n",
    "    for i in range(n):\n",
    "        d.append(column1[i] - column2[i])\n",
    "    Mid = sum(d)/n \n",
    "    qd = np.std(d, ddof = 1)\n",
    "   \n",
    "    t = (Mid/qd)*math.sqrt(n)\n",
    "    print('')\n",
    "    print(\"Значення критерію Стюдента: t = \", t)\n",
    "    \n",
    "    df = n - 1\n",
    "    print(\"Значення ступенів свободи: df = \", df)\n",
    "    \n",
    "    import xlrd, xlwt\n",
    "    rb = xlrd.open_workbook('Stud.xlsx')\n",
    "    sheet = rb.sheet_by_index(0)\n",
    "    t_t = sheet.row_values(df)[1] \n",
    "    print(\"Критичне значення: = \",t_t)\n",
    "    \n",
    "    if(t_t < t):\n",
    "        result = \"significant\" \n",
    "    else:\n",
    "        result = \"not significant\" \n",
    "    print(\"Результат оцінки значимості зв'язку:\", result)"
   ]
  },
  {
   "cell_type": "code",
   "execution_count": 18,
   "metadata": {},
   "outputs": [
    {
     "name": "stdout",
     "output_type": "stream",
     "text": [
      "\n",
      "Значення критерію Стюдента: t =  -4.738222327749353\n",
      "Значення ступенів свободи: df =  9\n",
      "Критичне значення: =  0.6021\n",
      "Результат оцінки значимості зв'язку: not significant\n"
     ]
    }
   ],
   "source": [
    "Student(table1,table2)"
   ]
  },
  {
   "cell_type": "markdown",
   "metadata": {},
   "source": [
    "Висновок:\n",
    "Проаналізувавши дані, можна зробити висновок що:\n",
    "1.За коефіцієнтом кореляції Пірсона було доведено, що немає статистичної залежності між групами ; \n",
    "2.Виявлена наявність статистично значущих відмінностей між двома таблицями таних(пульс до та після нагрузки), адже отримане значення критерію Стьюдента є більшим за критичне. Під час аналізу  була прийнята альтернативна гіпотеза про відмінність середніх"
   ]
  }
 ],
 "metadata": {
  "kernelspec": {
   "display_name": "Python 3",
   "language": "python",
   "name": "python3"
  },
  "language_info": {
   "codemirror_mode": {
    "name": "ipython",
    "version": 3
   },
   "file_extension": ".py",
   "mimetype": "text/x-python",
   "name": "python",
   "nbconvert_exporter": "python",
   "pygments_lexer": "ipython3",
   "version": "3.7.4"
  }
 },
 "nbformat": 4,
 "nbformat_minor": 2
}
