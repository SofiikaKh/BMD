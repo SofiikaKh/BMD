{
 "cells": [
  {
   "cell_type": "markdown",
   "metadata": {},
   "source": [
    "Лабораторна робота №4 Студентки групи БС-83 Харченко Софії"
   ]
  },
  {
   "cell_type": "markdown",
   "metadata": {},
   "source": [
    "1.Обрати реальні дані з kaggle або сгенерувати випадкові дані, що містять розподіл деякої ознаки в двох групах."
   ]
  },
  {
   "cell_type": "code",
   "execution_count": 1,
   "metadata": {},
   "outputs": [],
   "source": [
    "import numpy as np\n",
    "import pandas as pd\n",
    "import matplotlib.pyplot as plt\n",
    "import seaborn as sns"
   ]
  },
  {
   "cell_type": "code",
   "execution_count": 18,
   "metadata": {},
   "outputs": [
    {
     "data": {
      "text/html": [
       "<div>\n",
       "<style scoped>\n",
       "    .dataframe tbody tr th:only-of-type {\n",
       "        vertical-align: middle;\n",
       "    }\n",
       "\n",
       "    .dataframe tbody tr th {\n",
       "        vertical-align: top;\n",
       "    }\n",
       "\n",
       "    .dataframe thead th {\n",
       "        text-align: right;\n",
       "    }\n",
       "</style>\n",
       "<table border=\"1\" class=\"dataframe\">\n",
       "  <thead>\n",
       "    <tr style=\"text-align: right;\">\n",
       "      <th></th>\n",
       "      <th>Group_1</th>\n",
       "      <th>Group_2</th>\n",
       "    </tr>\n",
       "  </thead>\n",
       "  <tbody>\n",
       "    <tr>\n",
       "      <td>ind_1</td>\n",
       "      <td>10</td>\n",
       "      <td>16</td>\n",
       "    </tr>\n",
       "    <tr>\n",
       "      <td>ind_2</td>\n",
       "      <td>15</td>\n",
       "      <td>13</td>\n",
       "    </tr>\n",
       "    <tr>\n",
       "      <td>ind_3</td>\n",
       "      <td>14</td>\n",
       "      <td>15</td>\n",
       "    </tr>\n",
       "    <tr>\n",
       "      <td>ind_4</td>\n",
       "      <td>12</td>\n",
       "      <td>14</td>\n",
       "    </tr>\n",
       "    <tr>\n",
       "      <td>ind_5</td>\n",
       "      <td>11</td>\n",
       "      <td>10</td>\n",
       "    </tr>\n",
       "  </tbody>\n",
       "</table>\n",
       "</div>"
      ],
      "text/plain": [
       "       Group_1  Group_2\n",
       "ind_1       10       16\n",
       "ind_2       15       13\n",
       "ind_3       14       15\n",
       "ind_4       12       14\n",
       "ind_5       11       10"
      ]
     },
     "execution_count": 18,
     "metadata": {},
     "output_type": "execute_result"
    }
   ],
   "source": [
    "table = pd.DataFrame({'Group_1':[10,15,14,12,11],\n",
    "                      'Group_2':[16,13,15,14,10]},\n",
    "                    index = ['ind_1','ind_2','ind_3','ind_4','ind_5'])\n",
    "table"
   ]
  },
  {
   "cell_type": "markdown",
   "metadata": {},
   "source": [
    "2. Побудувати графік, що відображає розподіл ознак в групах."
   ]
  },
  {
   "cell_type": "code",
   "execution_count": 19,
   "metadata": {},
   "outputs": [
    {
     "data": {
      "text/plain": [
       "[<matplotlib.lines.Line2D at 0x19fdb396948>]"
      ]
     },
     "execution_count": 19,
     "metadata": {},
     "output_type": "execute_result"
    },
    {
     "data": {
      "image/png": "[encoded data removed]",
      "text/plain": [
       "<Figure size 432x288 with 2 Axes>"
      ]
     },
     "metadata": {
      "needs_background": "light"
     },
     "output_type": "display_data"
    }
   ],
   "source": [
    "plt.subplot(1, 2, 1) \n",
    "plt.plot(table.index, table['Group_1'], 'plum')\n",
    "\n",
    "plt.subplot(1, 2, 2) \n",
    "plt.plot(table.index, table['Group_2'],'darkred')"
   ]
  },
  {
   "cell_type": "markdown",
   "metadata": {},
   "source": [
    "3.Написати функції, що оцінює зв'язок між ознакою та групою за критерієм Пірсона. Функція має оцінювати розбіжність на двох рівнях - 0,001 та 0,05, в залежністі від параметру significant_level, що передається в неї.\n",
    "Врахувати у функції випадок, що сума частот ознаки у групах може бути відмінною."
   ]
  },
  {
   "cell_type": "code",
   "execution_count": 20,
   "metadata": {},
   "outputs": [],
   "source": [
    "def pirson (table, significant_level, num_level):\n",
    "    z = 0\n",
    "    prob = 0\n",
    "    x_emp = 0\n",
    "    gr_n=[]   #(n-n')^2\n",
    "    gr_n_div=[] #(n-n')^2 / n'\n",
    "    \n",
    "    l_st=len(table.iloc[:,0])\n",
    "    for i in range(l_st):\n",
    "        z = table.iloc[i,0] - table.iloc[i,1]\n",
    "        z_sq = z**2 #(n-n')^2\n",
    "        gr_n.append(z_sq)\n",
    "        z_sq_div = z_sq/table.iloc[i,1] #(n-n')^2 / n'\n",
    "        gr_n_div.append(z_sq_div)\n",
    "        x_emp += z_sq_div \n",
    "   \n",
    "    table[\"(n-n')^2\"] = gr_n  \n",
    "    table[\"(n-n')^2 / n\"] = gr_n_div\n",
    "    print(table)\n",
    "    print('')\n",
    "    print(\"Сума отриманих значень: χ^2 =\",x_emp)\n",
    "    r= l_st - 1 \n",
    "    print(\"Ступінь свободи: r =\",r)\n",
    "    \n",
    "    import xlrd, xlwt\n",
    "    rb = xlrd.open_workbook('Таблиця критичних значень для критерію Пірсона.xlsx')\n",
    "    sheet = rb.sheet_by_index(0)\n",
    "    x_kr = sheet.row_values(r+1)[num_level]\n",
    "    print(\"χ^2 критичне = \", x_kr)\n",
    "    \n",
    "    text = 0   \n",
    "    if((x_emp**2) > (x_kr**2)):\n",
    "        text = \"Розбіжність значима бо χ^2 > χ^2(критичне)\"%table\n",
    "    else:\n",
    "        text = \"Розбіжність незначима бо χ^2 < χ^2(критичне)\"%table\n",
    "    print(text)\n",
    "    print(\"\")"
   ]
  },
  {
   "cell_type": "code",
   "execution_count": 23,
   "metadata": {},
   "outputs": [
    {
     "name": "stdout",
     "output_type": "stream",
     "text": [
      "       Group_1  Group_2  (n-n')^2  (n-n')^2 / n\n",
      "ind_1       10       16        36      2.250000\n",
      "ind_2       15       13         4      0.307692\n",
      "ind_3       14       15         1      0.066667\n",
      "ind_4       12       14         4      0.285714\n",
      "ind_5       11       10         1      0.100000\n",
      "\n",
      "Сума отриманих значень: χ^2 = 3.01007326007326\n",
      "Ступінь свободи: r = 4\n",
      "χ^2 критичне =  13.3\n",
      "Розбіжність незначима бо χ^2 < χ^2(критичне)\n",
      "\n"
     ]
    }
   ],
   "source": [
    "pirson(table, 0.01, 1) "
   ]
  },
  {
   "cell_type": "code",
   "execution_count": 25,
   "metadata": {},
   "outputs": [
    {
     "name": "stdout",
     "output_type": "stream",
     "text": [
      "       Group_1  Group_2  (n-n')^2  (n-n')^2 / n\n",
      "ind_1       10       16        36      2.250000\n",
      "ind_2       15       13         4      0.307692\n",
      "ind_3       14       15         1      0.066667\n",
      "ind_4       12       14         4      0.285714\n",
      "ind_5       11       10         1      0.100000\n",
      "\n",
      "Сума отриманих значень: χ^2 = 3.01007326007326\n",
      "Ступінь свободи: r = 4\n",
      "χ^2 критичне =  9.5\n",
      "Розбіжність незначима бо χ^2 < χ^2(критичне)\n",
      "\n"
     ]
    }
   ],
   "source": [
    "pirson(table, 0.05, 2)"
   ]
  },
  {
   "cell_type": "markdown",
   "metadata": {},
   "source": [
    "4. Перевірити розбіжність на між групами на даних з п. 1. В результаті сформувати таблицю спряженості наступного вигляду:\n",
    "\n",
    "Ознака  | Група 1 | Група 2  | \n",
    "------------- | ------------- |--------- |\n",
    "Градація ознаки 1  | $n_{11}  $   | $n_{21}$   |\n",
    "Градація ознаки 2  | $n_{12}$   | $n_{22}$   |\n",
    "Градація ознаки 3  | $n_{13}$   | $n_{23}$   |\n",
    "\n",
    "Додати до таблиці стовбчики з відсотовим розподілом по градаціям всередині груп.\n",
    "Окремо вивести результати роботи критерію (чи є статистична розбіжність між групами)."
   ]
  },
  {
   "cell_type": "code",
   "execution_count": 26,
   "metadata": {},
   "outputs": [
    {
     "name": "stdout",
     "output_type": "stream",
     "text": [
      "        Gr_1  Gr_2    Gr_1 %    Gr_2 %\n",
      "Grad_1    23    21  16.12903  23.52941\n",
      "Grad_2    25    24  24.19355  19.11765\n",
      "Grad_3    24    25  22.58065  22.05882\n",
      "Grad_4    26    25  19.35484  20.58824\n",
      "Grad_5    25    28  17.74194  14.70588\n"
     ]
    }
   ],
   "source": [
    "sum_1 = 0\n",
    "sum_2 = 0\n",
    "\n",
    "len_st=len(table.iloc[:,0])\n",
    "\n",
    "for i in range(len_st):\n",
    "    sum_1 += table.iloc[i,0]\n",
    "    \n",
    "for i in range(len_st):\n",
    "    sum_2 += table.iloc[i,1]\n",
    "\n",
    "gr_1_per = []\n",
    "gr_2_per = []\n",
    "\n",
    "tmp1 = 0\n",
    "for i in range(len_st):\n",
    "    tmp1 = (table.iloc[i,0] * 100) / sum_1\n",
    "    tmp1 = float('{:.5f}'.format(tmp1)) #Скорочуємо кількість знаків після коми до 5\n",
    "    gr_1_per.append(tmp1)\n",
    "\n",
    "tmp2 = 0\n",
    "for i in range(len_st):\n",
    "    tmp2 = (table.iloc[i,1] * 100) / sum_2\n",
    "    tmp2 = float('{:.5f}'.format(tmp2)) #Скорочуємо кількість знаків після коми до 5\n",
    "    gr_2_per.append(tmp2)\n",
    "\n",
    "#Формуємо таблицю\n",
    "new_table = pd.DataFrame({'Gr_1':[23,25,24,26,25],\n",
    "                   'Gr_2':[21,24,25,25,28]},\n",
    "                    index = ['Grad_1','Grad_2','Grad_3','Grad_4','Grad_5'])\n",
    "\n",
    "new_table[\"Gr_1 %\"] = gr_1_per         #додаємо два нових стовбця\n",
    "new_table[\"Gr_2 %\"] = gr_2_per\n",
    "print(new_table)"
   ]
  },
  {
   "cell_type": "code",
   "execution_count": 30,
   "metadata": {},
   "outputs": [
    {
     "name": "stdout",
     "output_type": "stream",
     "text": [
      "       Group_1  Group_2  (n-n')^2  (n-n')^2 / n\n",
      "ind_1       10       16        36      2.250000\n",
      "ind_2       15       13         4      0.307692\n",
      "ind_3       14       15         1      0.066667\n",
      "ind_4       12       14         4      0.285714\n",
      "ind_5       11       10         1      0.100000\n",
      "\n",
      "Сума отриманих значень: χ^2 = 3.01007326007326\n",
      "Ступінь свободи: r = 4\n",
      "χ^2 критичне =  13.3\n",
      "Розбіжність незначима бо χ^2 < χ^2(критичне)\n",
      "\n",
      "       Group_1  Group_2  (n-n')^2  (n-n')^2 / n\n",
      "ind_1       10       16        36      2.250000\n",
      "ind_2       15       13         4      0.307692\n",
      "ind_3       14       15         1      0.066667\n",
      "ind_4       12       14         4      0.285714\n",
      "ind_5       11       10         1      0.100000\n",
      "\n",
      "Сума отриманих значень: χ^2 = 3.01007326007326\n",
      "Ступінь свободи: r = 4\n",
      "χ^2 критичне =  9.5\n",
      "Розбіжність незначима бо χ^2 < χ^2(критичне)\n",
      "\n"
     ]
    },
    {
     "data": {
      "text/html": [
       "<div>\n",
       "<style scoped>\n",
       "    .dataframe tbody tr th:only-of-type {\n",
       "        vertical-align: middle;\n",
       "    }\n",
       "\n",
       "    .dataframe tbody tr th {\n",
       "        vertical-align: top;\n",
       "    }\n",
       "\n",
       "    .dataframe thead th {\n",
       "        text-align: right;\n",
       "    }\n",
       "</style>\n",
       "<table border=\"1\" class=\"dataframe\">\n",
       "  <thead>\n",
       "    <tr style=\"text-align: right;\">\n",
       "      <th>significant level</th>\n",
       "      <th>Рівень значимості</th>\n",
       "    </tr>\n",
       "  </thead>\n",
       "  <tbody>\n",
       "    <tr>\n",
       "      <td>0.01</td>\n",
       "      <td>None</td>\n",
       "    </tr>\n",
       "    <tr>\n",
       "      <td>0.05</td>\n",
       "      <td>None</td>\n",
       "    </tr>\n",
       "  </tbody>\n",
       "</table>\n",
       "</div>"
      ],
      "text/plain": [
       "significant level Рівень значимості\n",
       "0.01                           None\n",
       "0.05                           None"
      ]
     },
     "execution_count": 30,
     "metadata": {},
     "output_type": "execute_result"
    }
   ],
   "source": [
    "result_table = pd.DataFrame( {\"Рівень значимості\":[pirson(table, 0.01, 1), pirson (table, 0.05, 2)]},\n",
    "                        index = [\"0.01\",\"0.05\"])\n",
    "result_table.columns.name = \"significant level\"\n",
    "result_table"
   ]
  },
  {
   "cell_type": "markdown",
   "metadata": {},
   "source": [
    "\n",
    "Висновок:\n",
    "\n",
    "Під час порівняння  груп за розподіленням ознаки за допомогою критерію Пірсона, було отримано результат,і можна зробити висновок, що статична розбіжність між групами на рівнях значимості 0.05 і 0.01 є статистично незначимою, так як в двох випадках χ^2 < χ^2(критичне)"
   ]
  }
 ],
 "metadata": {
  "kernelspec": {
   "display_name": "Python 3",
   "language": "python",
   "name": "python3"
  },
  "language_info": {
   "codemirror_mode": {
    "name": "ipython",
    "version": 3
   },
   "file_extension": ".py",
   "mimetype": "text/x-python",
   "name": "python",
   "nbconvert_exporter": "python",
   "pygments_lexer": "ipython3",
   "version": "3.7.4"
  }
 },
 "nbformat": 4,
 "nbformat_minor": 2
}
