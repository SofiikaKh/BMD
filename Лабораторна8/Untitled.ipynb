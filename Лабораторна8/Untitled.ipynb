{
 "cells": [
  {
   "cell_type": "markdown",
   "metadata": {},
   "source": [
    "Лабораторна робота №8 Студентки групи БС-83 Харченко Софії"
   ]
  },
  {
   "cell_type": "markdown",
   "metadata": {},
   "source": [
    "Розрахувати та вивести у вигляді таблиці статистичні характиристики даних (середні та стандартні відхилення для кожної з груп)."
   ]
  },
  {
   "cell_type": "code",
   "execution_count": 45,
   "metadata": {},
   "outputs": [],
   "source": [
    "import numpy as np\n",
    "import pandas as pd\n",
    "import scipy.stats as ss\n",
    "import seaborn as sns\n",
    "import math\n",
    "import matplotlib.pyplot as plt"
   ]
  },
  {
   "cell_type": "code",
   "execution_count": 59,
   "metadata": {},
   "outputs": [
    {
     "data": {
      "text/html": [
       "<div>\n",
       "<style scoped>\n",
       "    .dataframe tbody tr th:only-of-type {\n",
       "        vertical-align: middle;\n",
       "    }\n",
       "\n",
       "    .dataframe tbody tr th {\n",
       "        vertical-align: top;\n",
       "    }\n",
       "\n",
       "    .dataframe thead th {\n",
       "        text-align: right;\n",
       "    }\n",
       "</style>\n",
       "<table border=\"1\" class=\"dataframe\">\n",
       "  <thead>\n",
       "    <tr style=\"text-align: right;\">\n",
       "      <th></th>\n",
       "      <th>num</th>\n",
       "      <th>data1</th>\n",
       "      <th>data2</th>\n",
       "      <th>data3</th>\n",
       "    </tr>\n",
       "  </thead>\n",
       "  <tbody>\n",
       "    <tr>\n",
       "      <td>0</td>\n",
       "      <td>1</td>\n",
       "      <td>17</td>\n",
       "      <td>14.500</td>\n",
       "      <td>116.00</td>\n",
       "    </tr>\n",
       "    <tr>\n",
       "      <td>1</td>\n",
       "      <td>2</td>\n",
       "      <td>15</td>\n",
       "      <td>18.333</td>\n",
       "      <td>158.20</td>\n",
       "    </tr>\n",
       "    <tr>\n",
       "      <td>2</td>\n",
       "      <td>3</td>\n",
       "      <td>22</td>\n",
       "      <td>59.600</td>\n",
       "      <td>114.70</td>\n",
       "    </tr>\n",
       "    <tr>\n",
       "      <td>3</td>\n",
       "      <td>4</td>\n",
       "      <td>22</td>\n",
       "      <td>89.600</td>\n",
       "      <td>136.20</td>\n",
       "    </tr>\n",
       "    <tr>\n",
       "      <td>4</td>\n",
       "      <td>5</td>\n",
       "      <td>69</td>\n",
       "      <td>44.000</td>\n",
       "      <td>114.44</td>\n",
       "    </tr>\n",
       "    <tr>\n",
       "      <td>5</td>\n",
       "      <td>6</td>\n",
       "      <td>35</td>\n",
       "      <td>20.140</td>\n",
       "      <td>99.10</td>\n",
       "    </tr>\n",
       "    <tr>\n",
       "      <td>6</td>\n",
       "      <td>7</td>\n",
       "      <td>42</td>\n",
       "      <td>55.900</td>\n",
       "      <td>132.20</td>\n",
       "    </tr>\n",
       "    <tr>\n",
       "      <td>7</td>\n",
       "      <td>8</td>\n",
       "      <td>17</td>\n",
       "      <td>10.100</td>\n",
       "      <td>145.60</td>\n",
       "    </tr>\n",
       "    <tr>\n",
       "      <td>8</td>\n",
       "      <td>9</td>\n",
       "      <td>12</td>\n",
       "      <td>66.330</td>\n",
       "      <td>136.50</td>\n",
       "    </tr>\n",
       "    <tr>\n",
       "      <td>9</td>\n",
       "      <td>10</td>\n",
       "      <td>55</td>\n",
       "      <td>96.600</td>\n",
       "      <td>100.00</td>\n",
       "    </tr>\n",
       "  </tbody>\n",
       "</table>\n",
       "</div>"
      ],
      "text/plain": [
       "   num  data1   data2   data3\n",
       "0    1     17  14.500  116.00\n",
       "1    2     15  18.333  158.20\n",
       "2    3     22  59.600  114.70\n",
       "3    4     22  89.600  136.20\n",
       "4    5     69  44.000  114.44\n",
       "5    6     35  20.140   99.10\n",
       "6    7     42  55.900  132.20\n",
       "7    8     17  10.100  145.60\n",
       "8    9     12  66.330  136.50\n",
       "9   10     55  96.600  100.00"
      ]
     },
     "execution_count": 59,
     "metadata": {},
     "output_type": "execute_result"
    }
   ],
   "source": [
    "data = pd.DataFrame({\n",
    "    \"num\":[1,2,3,4,5,6,7,8,9,10],\n",
    "    \"data1\":[17,15,22,22,69,35,42,17,12,55],\n",
    "    \"data2\": [14.5,18.333,59.6,89.6,44.0,20.14,55.9,10.10,66.33,96.6],\n",
    "    \"data3\": [116.00, 158.2, 114.7, 136.20, 114.44, 99.1, 132.2,145.6,136.5,100.00]\n",
    "})\n",
    "num = data.shape[0]\n",
    "data"
   ]
  },
  {
   "cell_type": "code",
   "execution_count": 60,
   "metadata": {},
   "outputs": [
    {
     "data": {
      "text/html": [
       "<div>\n",
       "<style scoped>\n",
       "    .dataframe tbody tr th:only-of-type {\n",
       "        vertical-align: middle;\n",
       "    }\n",
       "\n",
       "    .dataframe tbody tr th {\n",
       "        vertical-align: top;\n",
       "    }\n",
       "\n",
       "    .dataframe thead th {\n",
       "        text-align: right;\n",
       "    }\n",
       "</style>\n",
       "<table border=\"1\" class=\"dataframe\">\n",
       "  <thead>\n",
       "    <tr style=\"text-align: right;\">\n",
       "      <th></th>\n",
       "      <th>Name</th>\n",
       "      <th>data1</th>\n",
       "      <th>data2</th>\n",
       "      <th>data3</th>\n",
       "    </tr>\n",
       "  </thead>\n",
       "  <tbody>\n",
       "    <tr>\n",
       "      <td>0</td>\n",
       "      <td>Среднє відхилення</td>\n",
       "      <td>30.600000</td>\n",
       "      <td>47.510300</td>\n",
       "      <td>125.294000</td>\n",
       "    </tr>\n",
       "    <tr>\n",
       "      <td>1</td>\n",
       "      <td>Стандартне відхилення</td>\n",
       "      <td>19.224984</td>\n",
       "      <td>31.365323</td>\n",
       "      <td>19.521154</td>\n",
       "    </tr>\n",
       "  </tbody>\n",
       "</table>\n",
       "</div>"
      ],
      "text/plain": [
       "                    Name      data1      data2       data3\n",
       "0      Среднє відхилення  30.600000  47.510300  125.294000\n",
       "1  Стандартне відхилення  19.224984  31.365323   19.521154"
      ]
     },
     "execution_count": 60,
     "metadata": {},
     "output_type": "execute_result"
    }
   ],
   "source": [
    "data_data = pd.DataFrame({\n",
    "    \"Name\": [\"Среднє відхилення\",\"Стандартне відхилення\"],\n",
    "    \"data1\":[sum(data.iloc[:,1]/num), data.iloc[:,1].std()],\n",
    "    \"data2\":[sum(data.iloc[:,2]/num), data.iloc[:,2].std()],\n",
    "    \"data3\": [sum(data.iloc[:,3]/num), data.iloc[:,3].std()]\n",
    "})\n",
    "data_data"
   ]
  },
  {
   "cell_type": "markdown",
   "metadata": {},
   "source": [
    "Графік розкиду в групах"
   ]
  },
  {
   "cell_type": "code",
   "execution_count": 61,
   "metadata": {},
   "outputs": [
    {
     "data": {
      "text/plain": [
       "[Text(0, 0.5, 'Наявнсть розпушування'), Text(0.5, 0, 'Річний приріст')]"
      ]
     },
     "execution_count": 61,
     "metadata": {},
     "output_type": "execute_result"
    },
    {
     "data": {
      "image/png": "[encoded data removed]",
      "text/plain": [
       "<Figure size 432x288 with 1 Axes>"
      ]
     },
     "metadata": {
      "needs_background": "light"
     },
     "output_type": "display_data"
    }
   ],
   "source": [
    "sns.boxplot( data = data, orient='h', palette='Blues').set(xlabel='Річний приріст', \n",
    "                                                        ylabel='Наявнсть розпушування')"
   ]
  },
  {
   "cell_type": "code",
   "execution_count": 65,
   "metadata": {},
   "outputs": [
    {
     "data": {
      "text/html": [
       "<div>\n",
       "<style scoped>\n",
       "    .dataframe tbody tr th:only-of-type {\n",
       "        vertical-align: middle;\n",
       "    }\n",
       "\n",
       "    .dataframe tbody tr th {\n",
       "        vertical-align: top;\n",
       "    }\n",
       "\n",
       "    .dataframe thead th {\n",
       "        text-align: right;\n",
       "    }\n",
       "</style>\n",
       "<table border=\"1\" class=\"dataframe\">\n",
       "  <thead>\n",
       "    <tr style=\"text-align: right;\">\n",
       "      <th></th>\n",
       "      <th>num</th>\n",
       "      <th>data1</th>\n",
       "      <th>data2</th>\n",
       "      <th>data3</th>\n",
       "    </tr>\n",
       "  </thead>\n",
       "  <tbody>\n",
       "    <tr>\n",
       "      <td>0</td>\n",
       "      <td>1</td>\n",
       "      <td>17.0</td>\n",
       "      <td>14.500</td>\n",
       "      <td>116.00</td>\n",
       "    </tr>\n",
       "    <tr>\n",
       "      <td>1</td>\n",
       "      <td>2</td>\n",
       "      <td>15.0</td>\n",
       "      <td>18.333</td>\n",
       "      <td>158.20</td>\n",
       "    </tr>\n",
       "    <tr>\n",
       "      <td>2</td>\n",
       "      <td>3</td>\n",
       "      <td>22.0</td>\n",
       "      <td>59.600</td>\n",
       "      <td>114.70</td>\n",
       "    </tr>\n",
       "    <tr>\n",
       "      <td>3</td>\n",
       "      <td>4</td>\n",
       "      <td>22.0</td>\n",
       "      <td>89.600</td>\n",
       "      <td>136.20</td>\n",
       "    </tr>\n",
       "    <tr>\n",
       "      <td>4</td>\n",
       "      <td>5</td>\n",
       "      <td>69.0</td>\n",
       "      <td>44.000</td>\n",
       "      <td>114.44</td>\n",
       "    </tr>\n",
       "    <tr>\n",
       "      <td>5</td>\n",
       "      <td>6</td>\n",
       "      <td>35.0</td>\n",
       "      <td>20.140</td>\n",
       "      <td>99.10</td>\n",
       "    </tr>\n",
       "    <tr>\n",
       "      <td>6</td>\n",
       "      <td>7</td>\n",
       "      <td>42.0</td>\n",
       "      <td>55.900</td>\n",
       "      <td>132.20</td>\n",
       "    </tr>\n",
       "    <tr>\n",
       "      <td>7</td>\n",
       "      <td>8</td>\n",
       "      <td>17.0</td>\n",
       "      <td>10.100</td>\n",
       "      <td>145.60</td>\n",
       "    </tr>\n",
       "    <tr>\n",
       "      <td>8</td>\n",
       "      <td>9</td>\n",
       "      <td>12.0</td>\n",
       "      <td>66.330</td>\n",
       "      <td>136.50</td>\n",
       "    </tr>\n",
       "    <tr>\n",
       "      <td>9</td>\n",
       "      <td>10</td>\n",
       "      <td>55.0</td>\n",
       "      <td>96.600</td>\n",
       "      <td>100.00</td>\n",
       "    </tr>\n",
       "    <tr>\n",
       "      <td>11</td>\n",
       "      <td>Summa:</td>\n",
       "      <td>306.0</td>\n",
       "      <td>475.103</td>\n",
       "      <td>1252.94</td>\n",
       "    </tr>\n",
       "    <tr>\n",
       "      <td>12</td>\n",
       "      <td>Summa:</td>\n",
       "      <td>612.0</td>\n",
       "      <td>950.206</td>\n",
       "      <td>2505.88</td>\n",
       "    </tr>\n",
       "    <tr>\n",
       "      <td>13</td>\n",
       "      <td>Сума:</td>\n",
       "      <td>1224.0</td>\n",
       "      <td>1900.412</td>\n",
       "      <td>5011.76</td>\n",
       "    </tr>\n",
       "    <tr>\n",
       "      <td>14</td>\n",
       "      <td>Середні:</td>\n",
       "      <td>102.0</td>\n",
       "      <td>158.370</td>\n",
       "      <td>417.65</td>\n",
       "    </tr>\n",
       "  </tbody>\n",
       "</table>\n",
       "</div>"
      ],
      "text/plain": [
       "          num   data1     data2    data3\n",
       "0           1    17.0    14.500   116.00\n",
       "1           2    15.0    18.333   158.20\n",
       "2           3    22.0    59.600   114.70\n",
       "3           4    22.0    89.600   136.20\n",
       "4           5    69.0    44.000   114.44\n",
       "5           6    35.0    20.140    99.10\n",
       "6           7    42.0    55.900   132.20\n",
       "7           8    17.0    10.100   145.60\n",
       "8           9    12.0    66.330   136.50\n",
       "9          10    55.0    96.600   100.00\n",
       "11    Summa:    306.0   475.103  1252.94\n",
       "12    Summa:    612.0   950.206  2505.88\n",
       "13     Сума:   1224.0  1900.412  5011.76\n",
       "14  Середні:    102.0   158.370   417.65"
      ]
     },
     "execution_count": 65,
     "metadata": {},
     "output_type": "execute_result"
    }
   ],
   "source": [
    "data.loc[data.shape[0]+1] = [\"Summ: \",sum(data.iloc[:,1]), sum(data.iloc[:,2]), sum(data.iloc[:,3])]\n",
    "data.loc[data.shape[0]+1] = [\"Average: \", round(data.iloc[n,1]/n, 2), round(data.iloc[n,2]/n, 2), round(data.iloc[n,3]/n, 2)]\n",
    "n = data.shape[0]\n",
    "data"
   ]
  },
  {
   "cell_type": "code",
   "execution_count": 66,
   "metadata": {},
   "outputs": [
    {
     "name": "stdout",
     "output_type": "stream",
     "text": [
      "Summa all:  8136.1720000000005\n"
     ]
    }
   ],
   "source": [
    "summa = sum(data.iloc[n-2, 1:])\n",
    "print(\"Summa all: \", summa)"
   ]
  },
  {
   "cell_type": "markdown",
   "metadata": {},
   "source": [
    " Функція, що реалізовує однофакторний дисперсійний аналіз."
   ]
  },
  {
   "cell_type": "code",
   "execution_count": 80,
   "metadata": {},
   "outputs": [],
   "source": [
    "def Dispersion(data, n):    \n",
    "    first_sum = data.iloc[n-2,1]\n",
    "    second_sum = data.iloc[n-2,2]\n",
    "    third_sum = data.iloc[n-2, 3]\n",
    "    Tc2 = first_sum**2 + second_sum**2 + third_sum**2\n",
    "    c = data.shape[1]-1\n",
    "    n = data.shape[0]-2\n",
    "    N = n*c\n",
    "    sum2 = sum(data.iloc[n, 1:])**2\n",
    "    constanta = sum2/N\n",
    "    xi2 = 0\n",
    "    for i in range(0, n):\n",
    "        xi2 += data.iloc[i, 1]**2\n",
    "    for i in range(0, n):\n",
    "        xi2 += data.iloc[i, 2]**2\n",
    "    for i in range(0, n):\n",
    "        xi2 += data.iloc[i, 3]**2\n",
    "    \n",
    "    SSfact = Tc2/n - constanta\n",
    "    print(\"SS-фактичне:\", SSfact)\n",
    "    SSzag = xi2 - sum2/N\n",
    "    print(\"SS-загальне:\", SSzag)\n",
    "    SSvip = SSzag - SSfact\n",
    "    print(\"SS-випадкове:\", SSvip)\n",
    "    \n",
    "    dfact = c - 1\n",
    "    print(\"\\nd-фактичне:\", dfact)\n",
    "    dzag = N - 1\n",
    "    print(\"d-загальне:\", dzag)\n",
    "    dvip = dzag - dfact\n",
    "    print(\"d-випадкове:\", dvip)\n",
    "    \n",
    "    MSfact = SSfact/dfact\n",
    "    print(\"\\nMS-фактичне:\", MSfact)\n",
    "    MSvip = SSvip/dvip\n",
    "    print(\"MS-випадкове:\", MSvip)\n",
    "    \n",
    "    Femp = MSfact/MSvip\n",
    "    print(\"\\nF-емпіричне\", Femp)\n",
    "    Fcrit = pd.read_excel(\"Fisher.xlsx\").iloc[dzag-2, dfact]\n",
    "    if (Fcrit >= Femp):\n",
    "        print(\"Accept\", Fcrit, \">\", Femp)\n",
    "    else:\n",
    "        print(\"Reject\", Fcrit, \"<\", Femp)\n",
    "    \n",
    "    data_end = pd.DataFrame({\n",
    "        \"Назва\":[\"Фактичне\", \"Випадкове\", \"Загальне\"],\n",
    "        \"SS\":[SSfact, SSvip, SSzag],\n",
    "        \"d\":[dfact, dvip, dzag],\n",
    "        \"MS\":[MSfact, MSvip, None]\n",
    "    })\n",
    "    return data_end"
   ]
  },
  {
   "cell_type": "markdown",
   "metadata": {},
   "source": [
    "Вивести результати розрахунку кожного з етапів вказаних вище у вигляді таблиці.\n",
    "Перевірити результат роботи функції на реальних або сгенерованих даних."
   ]
  },
  {
   "cell_type": "code",
   "execution_count": 82,
   "metadata": {},
   "outputs": [
    {
     "name": "stdout",
     "output_type": "stream",
     "text": [
      "SS-фактичне: -1836882.418246778\n",
      "SS-загальне: 7811805.657212222\n",
      "SS-випадкове: 9648688.075459\n",
      "\n",
      "d-фактичне: 2\n",
      "d-загальне: 35\n",
      "d-випадкове: 33\n",
      "\n",
      "MS-фактичне: -918441.209123389\n",
      "MS-випадкове: 292384.4871351212\n",
      "\n",
      "F-емпіричне -3.1412104592913814\n",
      "Reject nan < -3.1412104592913814\n"
     ]
    },
    {
     "data": {
      "text/html": [
       "<div>\n",
       "<style scoped>\n",
       "    .dataframe tbody tr th:only-of-type {\n",
       "        vertical-align: middle;\n",
       "    }\n",
       "\n",
       "    .dataframe tbody tr th {\n",
       "        vertical-align: top;\n",
       "    }\n",
       "\n",
       "    .dataframe thead th {\n",
       "        text-align: right;\n",
       "    }\n",
       "</style>\n",
       "<table border=\"1\" class=\"dataframe\">\n",
       "  <thead>\n",
       "    <tr style=\"text-align: right;\">\n",
       "      <th></th>\n",
       "      <th>Назва</th>\n",
       "      <th>SS</th>\n",
       "      <th>d</th>\n",
       "      <th>MS</th>\n",
       "    </tr>\n",
       "  </thead>\n",
       "  <tbody>\n",
       "    <tr>\n",
       "      <td>0</td>\n",
       "      <td>Фактичне</td>\n",
       "      <td>-1.836882e+06</td>\n",
       "      <td>2</td>\n",
       "      <td>-918441.209123</td>\n",
       "    </tr>\n",
       "    <tr>\n",
       "      <td>1</td>\n",
       "      <td>Випадкове</td>\n",
       "      <td>9.648688e+06</td>\n",
       "      <td>33</td>\n",
       "      <td>292384.487135</td>\n",
       "    </tr>\n",
       "    <tr>\n",
       "      <td>2</td>\n",
       "      <td>Загальне</td>\n",
       "      <td>7.811806e+06</td>\n",
       "      <td>35</td>\n",
       "      <td>NaN</td>\n",
       "    </tr>\n",
       "  </tbody>\n",
       "</table>\n",
       "</div>"
      ],
      "text/plain": [
       "       Назва            SS   d             MS\n",
       "0   Фактичне -1.836882e+06   2 -918441.209123\n",
       "1  Випадкове  9.648688e+06  33  292384.487135\n",
       "2   Загальне  7.811806e+06  35            NaN"
      ]
     },
     "execution_count": 82,
     "metadata": {},
     "output_type": "execute_result"
    }
   ],
   "source": [
    "Dispersion(data,num)"
   ]
  },
  {
   "cell_type": "markdown",
   "metadata": {},
   "source": [
    "Висновок:\n",
    "Під час проведення дисперсійного аналізу був отриманий результат 𝐹емпіричне > 𝐹критичне , що свідчить про те що нульову гіпотезу про рівність середніх ми відхиляємо і приймаємо альтернативну: середні незалежних груп - відмінні.\n"
   ]
  }
 ],
 "metadata": {
  "kernelspec": {
   "display_name": "Python 3",
   "language": "python",
   "name": "python3"
  },
  "language_info": {
   "codemirror_mode": {
    "name": "ipython",
    "version": 3
   },
   "file_extension": ".py",
   "mimetype": "text/x-python",
   "name": "python",
   "nbconvert_exporter": "python",
   "pygments_lexer": "ipython3",
   "version": "3.7.4"
  }
 },
 "nbformat": 4,
 "nbformat_minor": 2
}
